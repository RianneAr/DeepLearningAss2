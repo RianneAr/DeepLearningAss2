{
 "cells": [
  {
   "cell_type": "code",
   "execution_count": 7,
   "id": "3c684b89",
   "metadata": {},
   "outputs": [],
   "source": [
    "import keras\n",
    "import pandas as pd\n",
    "import matplotlib.pyplot as plt\n",
    "from keras.datasets import fashion_mnist, cifar10\n",
    "from keras.models import Sequential\n",
    "from keras.layers import Dense, Dropout, Flatten\n",
    "from keras.layers import Conv2D, MaxPooling2D\n",
    "from keras import backend as K\n",
    "from functools import partial\n",
    "from sklearn.model_selection import train_test_split\n",
    "import numpy as np"
   ]
  },
  {
   "cell_type": "markdown",
   "id": "b61369df",
   "metadata": {},
   "source": [
    "## Loading data\n",
    "\n",
    "First, we load in the data and split it into a train and test set. "
   ]
  },
  {
   "cell_type": "code",
   "execution_count": 2,
   "id": "64641b58",
   "metadata": {},
   "outputs": [],
   "source": [
    "images = np.load('a2_data/images.npy')\n",
    "labels = np.load('a2_data/labels.npy')"
   ]
  },
  {
   "cell_type": "code",
   "execution_count": 5,
   "id": "eb62fc15",
   "metadata": {},
   "outputs": [
    {
     "name": "stdout",
     "output_type": "stream",
     "text": [
      "[[[135 130 139 ... 144 147 150]\n",
      "  [130 124 131 ... 142 143 143]\n",
      "  [135 141 149 ... 153 153 153]\n",
      "  ...\n",
      "  [ 62  74  99 ... 110 138 129]\n",
      "  [ 79  96 123 ...  72  76  94]\n",
      "  [ 95  97 111 ...  70  66  82]]\n",
      "\n",
      " [[128 140 147 ... 140 134 134]\n",
      "  [142 141 160 ... 129 122 121]\n",
      "  [138 144 147 ... 120 129 134]\n",
      "  ...\n",
      "  [ 69  65  69 ... 101  92  90]\n",
      "  [ 70  78  91 ... 102  96  92]\n",
      "  [ 74  96 117 ...  99  92  82]]]\n"
     ]
    }
   ],
   "source": [
    "print(images[:2])"
   ]
  },
  {
   "cell_type": "code",
   "execution_count": 8,
   "id": "8e5ad2ab",
   "metadata": {},
   "outputs": [],
   "source": [
    "X_train, X_test, y_train, y_test = train_test_split(images, labels, test_size=0.2, random_state=42)"
   ]
  },
  {
   "cell_type": "markdown",
   "id": "9f0230e1",
   "metadata": {},
   "source": [
    "## Definition of common-sense difference\n",
    "\n",
    "The difference between the predicted time and actual time will be quantified using the 'common-sense' time. The function that calculates this time difference is shown below."
   ]
  },
  {
   "cell_type": "code",
   "execution_count": 35,
   "id": "3abd1a98",
   "metadata": {},
   "outputs": [
    {
     "name": "stdout",
     "output_type": "stream",
     "text": [
      "Time 1:  [ 0 20] \n",
      "Time 2:  [11 40] \n",
      "Difference in minutes:  40\n"
     ]
    }
   ],
   "source": [
    "def common_sense(time1, time2):\n",
    "    time1min = time1[0]*60 + time1[1]\n",
    "    time2min = time2[0]*60 + time2[1]\n",
    "    \n",
    "    diff = abs(time1min - time2min)\n",
    "    csdiff = min(diff, 12*60-diff)\n",
    "    csdiffhr = np.array([int(csdiff/60), csdiff%60])\n",
    "    \n",
    "    return csdiff\n",
    "\n",
    "print('Time 1: ', labels[500], '\\nTime 2: ', labels[17500], '\\nDifference in minutes: ', common_sense(labels[500], labels[17500]) )"
   ]
  },
  {
   "cell_type": "markdown",
   "id": "acde9e76",
   "metadata": {},
   "source": [
    "## Regression"
   ]
  },
  {
   "cell_type": "code",
   "execution_count": null,
   "id": "6a0ac17a",
   "metadata": {},
   "outputs": [],
   "source": []
  },
  {
   "cell_type": "markdown",
   "id": "18dccf52",
   "metadata": {},
   "source": [
    "## Classification"
   ]
  },
  {
   "cell_type": "code",
   "execution_count": null,
   "id": "a66d5a6a",
   "metadata": {},
   "outputs": [],
   "source": []
  },
  {
   "cell_type": "markdown",
   "id": "75b55d18",
   "metadata": {},
   "source": [
    "## Multi-head models"
   ]
  },
  {
   "cell_type": "code",
   "execution_count": null,
   "id": "8a91b35f",
   "metadata": {},
   "outputs": [],
   "source": []
  },
  {
   "cell_type": "markdown",
   "id": "f0888745",
   "metadata": {},
   "source": [
    "## Optimizing final model"
   ]
  },
  {
   "cell_type": "code",
   "execution_count": null,
   "id": "14cd0f28",
   "metadata": {},
   "outputs": [],
   "source": []
  }
 ],
 "metadata": {
  "kernelspec": {
   "display_name": "Python 3 (ipykernel)",
   "language": "python",
   "name": "python3"
  },
  "language_info": {
   "codemirror_mode": {
    "name": "ipython",
    "version": 3
   },
   "file_extension": ".py",
   "mimetype": "text/x-python",
   "name": "python",
   "nbconvert_exporter": "python",
   "pygments_lexer": "ipython3",
   "version": "3.9.7"
  }
 },
 "nbformat": 4,
 "nbformat_minor": 5
}
